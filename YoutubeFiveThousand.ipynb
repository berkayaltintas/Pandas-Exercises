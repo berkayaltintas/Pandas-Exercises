{
 "cells": [
  {
   "cell_type": "markdown",
   "id": "1d49ca4d-9fb1-4d31-b3c8-132c06b6b0e1",
   "metadata": {},
   "source": [
    "https://www.kaggle.com/datasets/rahuldogra/top5000youtubechannels\n",
    "Linki buradan indirebilirsiniz."
   ]
  },
  {
   "cell_type": "markdown",
   "id": "bcd9525f-a45a-4475-a32a-a1432e2c5298",
   "metadata": {
    "tags": []
   },
   "source": [
    "# Youtube "
   ]
  },
  {
   "cell_type": "code",
   "execution_count": 1,
   "id": "5b8c2241-7d0b-4294-b615-8b0b8e65d98d",
   "metadata": {},
   "outputs": [],
   "source": [
    "import pandas as pd\n",
    "import seaborn as sns"
   ]
  },
  {
   "cell_type": "code",
   "execution_count": 4,
   "id": "5dfea23a-6498-4b5a-a3cb-fa6c56394192",
   "metadata": {},
   "outputs": [],
   "source": [
    "data=pd.read_csv(\"top-5000-youtube-channels.csv\")"
   ]
  },
  {
   "cell_type": "code",
   "execution_count": 5,
   "id": "206baefc-b2b0-4663-bfa6-cff07868a345",
   "metadata": {},
   "outputs": [
    {
     "data": {
      "text/html": [
       "<div>\n",
       "<style scoped>\n",
       "    .dataframe tbody tr th:only-of-type {\n",
       "        vertical-align: middle;\n",
       "    }\n",
       "\n",
       "    .dataframe tbody tr th {\n",
       "        vertical-align: top;\n",
       "    }\n",
       "\n",
       "    .dataframe thead th {\n",
       "        text-align: right;\n",
       "    }\n",
       "</style>\n",
       "<table border=\"1\" class=\"dataframe\">\n",
       "  <thead>\n",
       "    <tr style=\"text-align: right;\">\n",
       "      <th></th>\n",
       "      <th>Rank</th>\n",
       "      <th>Grade</th>\n",
       "      <th>Channel name</th>\n",
       "      <th>Video Uploads</th>\n",
       "      <th>Subscribers</th>\n",
       "      <th>Video views</th>\n",
       "    </tr>\n",
       "  </thead>\n",
       "  <tbody>\n",
       "    <tr>\n",
       "      <th>0</th>\n",
       "      <td>1st</td>\n",
       "      <td>A++</td>\n",
       "      <td>Zee TV</td>\n",
       "      <td>82757</td>\n",
       "      <td>18752951</td>\n",
       "      <td>20869786591</td>\n",
       "    </tr>\n",
       "    <tr>\n",
       "      <th>1</th>\n",
       "      <td>2nd</td>\n",
       "      <td>A++</td>\n",
       "      <td>T-Series</td>\n",
       "      <td>12661</td>\n",
       "      <td>61196302</td>\n",
       "      <td>47548839843</td>\n",
       "    </tr>\n",
       "    <tr>\n",
       "      <th>2</th>\n",
       "      <td>3rd</td>\n",
       "      <td>A++</td>\n",
       "      <td>Cocomelon - Nursery Rhymes</td>\n",
       "      <td>373</td>\n",
       "      <td>19238251</td>\n",
       "      <td>9793305082</td>\n",
       "    </tr>\n",
       "    <tr>\n",
       "      <th>3</th>\n",
       "      <td>4th</td>\n",
       "      <td>A++</td>\n",
       "      <td>SET India</td>\n",
       "      <td>27323</td>\n",
       "      <td>31180559</td>\n",
       "      <td>22675948293</td>\n",
       "    </tr>\n",
       "    <tr>\n",
       "      <th>4</th>\n",
       "      <td>5th</td>\n",
       "      <td>A++</td>\n",
       "      <td>WWE</td>\n",
       "      <td>36756</td>\n",
       "      <td>32852346</td>\n",
       "      <td>26273668433</td>\n",
       "    </tr>\n",
       "  </tbody>\n",
       "</table>\n",
       "</div>"
      ],
      "text/plain": [
       "  Rank Grade                Channel name Video Uploads Subscribers  \\\n",
       "0  1st  A++                       Zee TV         82757    18752951   \n",
       "1  2nd  A++                     T-Series         12661    61196302   \n",
       "2  3rd  A++   Cocomelon - Nursery Rhymes           373    19238251   \n",
       "3  4th  A++                    SET India         27323    31180559   \n",
       "4  5th  A++                          WWE         36756    32852346   \n",
       "\n",
       "   Video views  \n",
       "0  20869786591  \n",
       "1  47548839843  \n",
       "2   9793305082  \n",
       "3  22675948293  \n",
       "4  26273668433  "
      ]
     },
     "execution_count": 5,
     "metadata": {},
     "output_type": "execute_result"
    }
   ],
   "source": [
    "data.head() #--> Bu şekilde kontrol ediyoruz."
   ]
  },
  {
   "cell_type": "markdown",
   "id": "3bdc9120-0e6e-41d4-a20f-c4a507cf337c",
   "metadata": {},
   "source": [
    "# 1) Display All Rows Except the Last 5 rows Using Head Method # "
   ]
  },
  {
   "cell_type": "code",
   "execution_count": 6,
   "id": "56445ce9-1033-4011-bf4c-3b4aa1409fc4",
   "metadata": {},
   "outputs": [
    {
     "data": {
      "text/html": [
       "<div>\n",
       "<style scoped>\n",
       "    .dataframe tbody tr th:only-of-type {\n",
       "        vertical-align: middle;\n",
       "    }\n",
       "\n",
       "    .dataframe tbody tr th {\n",
       "        vertical-align: top;\n",
       "    }\n",
       "\n",
       "    .dataframe thead th {\n",
       "        text-align: right;\n",
       "    }\n",
       "</style>\n",
       "<table border=\"1\" class=\"dataframe\">\n",
       "  <thead>\n",
       "    <tr style=\"text-align: right;\">\n",
       "      <th></th>\n",
       "      <th>Rank</th>\n",
       "      <th>Grade</th>\n",
       "      <th>Channel name</th>\n",
       "      <th>Video Uploads</th>\n",
       "      <th>Subscribers</th>\n",
       "      <th>Video views</th>\n",
       "    </tr>\n",
       "  </thead>\n",
       "  <tbody>\n",
       "    <tr>\n",
       "      <th>0</th>\n",
       "      <td>1st</td>\n",
       "      <td>A++</td>\n",
       "      <td>Zee TV</td>\n",
       "      <td>82757</td>\n",
       "      <td>18752951</td>\n",
       "      <td>20869786591</td>\n",
       "    </tr>\n",
       "    <tr>\n",
       "      <th>1</th>\n",
       "      <td>2nd</td>\n",
       "      <td>A++</td>\n",
       "      <td>T-Series</td>\n",
       "      <td>12661</td>\n",
       "      <td>61196302</td>\n",
       "      <td>47548839843</td>\n",
       "    </tr>\n",
       "    <tr>\n",
       "      <th>2</th>\n",
       "      <td>3rd</td>\n",
       "      <td>A++</td>\n",
       "      <td>Cocomelon - Nursery Rhymes</td>\n",
       "      <td>373</td>\n",
       "      <td>19238251</td>\n",
       "      <td>9793305082</td>\n",
       "    </tr>\n",
       "    <tr>\n",
       "      <th>3</th>\n",
       "      <td>4th</td>\n",
       "      <td>A++</td>\n",
       "      <td>SET India</td>\n",
       "      <td>27323</td>\n",
       "      <td>31180559</td>\n",
       "      <td>22675948293</td>\n",
       "    </tr>\n",
       "    <tr>\n",
       "      <th>4</th>\n",
       "      <td>5th</td>\n",
       "      <td>A++</td>\n",
       "      <td>WWE</td>\n",
       "      <td>36756</td>\n",
       "      <td>32852346</td>\n",
       "      <td>26273668433</td>\n",
       "    </tr>\n",
       "    <tr>\n",
       "      <th>...</th>\n",
       "      <td>...</td>\n",
       "      <td>...</td>\n",
       "      <td>...</td>\n",
       "      <td>...</td>\n",
       "      <td>...</td>\n",
       "      <td>...</td>\n",
       "    </tr>\n",
       "    <tr>\n",
       "      <th>4990</th>\n",
       "      <td>4,991st</td>\n",
       "      <td>B+</td>\n",
       "      <td>Ho Ngoc Ha's Official Channel</td>\n",
       "      <td>208</td>\n",
       "      <td>--</td>\n",
       "      <td>127185704</td>\n",
       "    </tr>\n",
       "    <tr>\n",
       "      <th>4991</th>\n",
       "      <td>4,992nd</td>\n",
       "      <td>B+</td>\n",
       "      <td>Toys to Learn Colors</td>\n",
       "      <td>11</td>\n",
       "      <td>663114</td>\n",
       "      <td>141933264</td>\n",
       "    </tr>\n",
       "    <tr>\n",
       "      <th>4992</th>\n",
       "      <td>4,993rd</td>\n",
       "      <td>B+</td>\n",
       "      <td>КАZКА</td>\n",
       "      <td>25</td>\n",
       "      <td>131766</td>\n",
       "      <td>74304638</td>\n",
       "    </tr>\n",
       "    <tr>\n",
       "      <th>4993</th>\n",
       "      <td>4,994th</td>\n",
       "      <td>B+</td>\n",
       "      <td>United CUBE (CUBE Entertainment…</td>\n",
       "      <td>1055</td>\n",
       "      <td>1586835</td>\n",
       "      <td>371299166</td>\n",
       "    </tr>\n",
       "    <tr>\n",
       "      <th>4994</th>\n",
       "      <td>4,995th</td>\n",
       "      <td>B+</td>\n",
       "      <td>Wings Marathi</td>\n",
       "      <td>1735</td>\n",
       "      <td>1099659</td>\n",
       "      <td>346175699</td>\n",
       "    </tr>\n",
       "  </tbody>\n",
       "</table>\n",
       "<p>4995 rows × 6 columns</p>\n",
       "</div>"
      ],
      "text/plain": [
       "         Rank Grade                      Channel name Video Uploads  \\\n",
       "0         1st  A++                             Zee TV         82757   \n",
       "1         2nd  A++                           T-Series         12661   \n",
       "2         3rd  A++         Cocomelon - Nursery Rhymes           373   \n",
       "3         4th  A++                          SET India         27323   \n",
       "4         5th  A++                                WWE         36756   \n",
       "...       ...   ...                               ...           ...   \n",
       "4990  4,991st   B+      Ho Ngoc Ha's Official Channel           208   \n",
       "4991  4,992nd   B+               Toys to Learn Colors            11   \n",
       "4992  4,993rd   B+                              КАZКА            25   \n",
       "4993  4,994th   B+   United CUBE (CUBE Entertainment…          1055   \n",
       "4994  4,995th   B+                      Wings Marathi          1735   \n",
       "\n",
       "     Subscribers  Video views  \n",
       "0       18752951  20869786591  \n",
       "1       61196302  47548839843  \n",
       "2       19238251   9793305082  \n",
       "3       31180559  22675948293  \n",
       "4       32852346  26273668433  \n",
       "...          ...          ...  \n",
       "4990         --     127185704  \n",
       "4991      663114    141933264  \n",
       "4992      131766     74304638  \n",
       "4993     1586835    371299166  \n",
       "4994     1099659    346175699  \n",
       "\n",
       "[4995 rows x 6 columns]"
      ]
     },
     "execution_count": 6,
     "metadata": {},
     "output_type": "execute_result"
    }
   ],
   "source": [
    "data.head(-5) # Son 5 satırın gelmemesini istiyorsak bu şekile yapmalıyız.(Tam tersi durum)"
   ]
  },
  {
   "cell_type": "markdown",
   "id": "3c762a59-60c0-47b5-bb12-e3aadfb7f93e",
   "metadata": {},
   "source": [
    "# 2) Display All Rows Except the First 5 Rows Using Tail Method #"
   ]
  },
  {
   "cell_type": "code",
   "execution_count": 6,
   "id": "f30e58bb-81b5-44f4-a7bb-2d2aa3877e95",
   "metadata": {},
   "outputs": [
    {
     "data": {
      "text/html": [
       "<div>\n",
       "<style scoped>\n",
       "    .dataframe tbody tr th:only-of-type {\n",
       "        vertical-align: middle;\n",
       "    }\n",
       "\n",
       "    .dataframe tbody tr th {\n",
       "        vertical-align: top;\n",
       "    }\n",
       "\n",
       "    .dataframe thead th {\n",
       "        text-align: right;\n",
       "    }\n",
       "</style>\n",
       "<table border=\"1\" class=\"dataframe\">\n",
       "  <thead>\n",
       "    <tr style=\"text-align: right;\">\n",
       "      <th></th>\n",
       "      <th>Rank</th>\n",
       "      <th>Grade</th>\n",
       "      <th>Channel name</th>\n",
       "      <th>Video Uploads</th>\n",
       "      <th>Subscribers</th>\n",
       "      <th>Video views</th>\n",
       "    </tr>\n",
       "  </thead>\n",
       "  <tbody>\n",
       "    <tr>\n",
       "      <th>5</th>\n",
       "      <td>6th</td>\n",
       "      <td>A++</td>\n",
       "      <td>Movieclips</td>\n",
       "      <td>30243</td>\n",
       "      <td>17149705</td>\n",
       "      <td>16618094724</td>\n",
       "    </tr>\n",
       "    <tr>\n",
       "      <th>6</th>\n",
       "      <td>7th</td>\n",
       "      <td>A++</td>\n",
       "      <td>netd müzik</td>\n",
       "      <td>8500</td>\n",
       "      <td>11373567</td>\n",
       "      <td>23898730764</td>\n",
       "    </tr>\n",
       "    <tr>\n",
       "      <th>7</th>\n",
       "      <td>8th</td>\n",
       "      <td>A++</td>\n",
       "      <td>ABS-CBN Entertainment</td>\n",
       "      <td>100147</td>\n",
       "      <td>12149206</td>\n",
       "      <td>17202609850</td>\n",
       "    </tr>\n",
       "    <tr>\n",
       "      <th>8</th>\n",
       "      <td>9th</td>\n",
       "      <td>A++</td>\n",
       "      <td>Ryan ToysReview</td>\n",
       "      <td>1140</td>\n",
       "      <td>16082927</td>\n",
       "      <td>24518098041</td>\n",
       "    </tr>\n",
       "    <tr>\n",
       "      <th>9</th>\n",
       "      <td>10th</td>\n",
       "      <td>A++</td>\n",
       "      <td>Zee Marathi</td>\n",
       "      <td>74607</td>\n",
       "      <td>2841811</td>\n",
       "      <td>2591830307</td>\n",
       "    </tr>\n",
       "    <tr>\n",
       "      <th>...</th>\n",
       "      <td>...</td>\n",
       "      <td>...</td>\n",
       "      <td>...</td>\n",
       "      <td>...</td>\n",
       "      <td>...</td>\n",
       "      <td>...</td>\n",
       "    </tr>\n",
       "    <tr>\n",
       "      <th>4995</th>\n",
       "      <td>4,996th</td>\n",
       "      <td>B+</td>\n",
       "      <td>Uras Benlioğlu</td>\n",
       "      <td>706</td>\n",
       "      <td>2072942</td>\n",
       "      <td>441202795</td>\n",
       "    </tr>\n",
       "    <tr>\n",
       "      <th>4996</th>\n",
       "      <td>4,997th</td>\n",
       "      <td>B+</td>\n",
       "      <td>HI-TECH MUSIC LTD</td>\n",
       "      <td>797</td>\n",
       "      <td>1055091</td>\n",
       "      <td>377331722</td>\n",
       "    </tr>\n",
       "    <tr>\n",
       "      <th>4997</th>\n",
       "      <td>4,998th</td>\n",
       "      <td>B+</td>\n",
       "      <td>Mastersaint</td>\n",
       "      <td>110</td>\n",
       "      <td>3265735</td>\n",
       "      <td>311758426</td>\n",
       "    </tr>\n",
       "    <tr>\n",
       "      <th>4998</th>\n",
       "      <td>4,999th</td>\n",
       "      <td>B+</td>\n",
       "      <td>Bruce McIntosh</td>\n",
       "      <td>3475</td>\n",
       "      <td>32990</td>\n",
       "      <td>14563764</td>\n",
       "    </tr>\n",
       "    <tr>\n",
       "      <th>4999</th>\n",
       "      <td>5,000th</td>\n",
       "      <td>B+</td>\n",
       "      <td>SehatAQUA</td>\n",
       "      <td>254</td>\n",
       "      <td>21172</td>\n",
       "      <td>73312511</td>\n",
       "    </tr>\n",
       "  </tbody>\n",
       "</table>\n",
       "<p>4995 rows × 6 columns</p>\n",
       "</div>"
      ],
      "text/plain": [
       "         Rank Grade           Channel name Video Uploads Subscribers  \\\n",
       "5         6th  A++              Movieclips         30243    17149705   \n",
       "6         7th  A++              netd müzik          8500    11373567   \n",
       "7         8th  A++   ABS-CBN Entertainment        100147    12149206   \n",
       "8         9th  A++         Ryan ToysReview          1140    16082927   \n",
       "9        10th  A++             Zee Marathi         74607     2841811   \n",
       "...       ...   ...                    ...           ...         ...   \n",
       "4995  4,996th   B+          Uras Benlioğlu           706     2072942   \n",
       "4996  4,997th   B+       HI-TECH MUSIC LTD           797     1055091   \n",
       "4997  4,998th   B+             Mastersaint           110     3265735   \n",
       "4998  4,999th   B+          Bruce McIntosh          3475       32990   \n",
       "4999  5,000th   B+               SehatAQUA           254       21172   \n",
       "\n",
       "      Video views  \n",
       "5     16618094724  \n",
       "6     23898730764  \n",
       "7     17202609850  \n",
       "8     24518098041  \n",
       "9      2591830307  \n",
       "...           ...  \n",
       "4995    441202795  \n",
       "4996    377331722  \n",
       "4997    311758426  \n",
       "4998     14563764  \n",
       "4999     73312511  \n",
       "\n",
       "[4995 rows x 6 columns]"
      ]
     },
     "execution_count": 6,
     "metadata": {},
     "output_type": "execute_result"
    }
   ],
   "source": [
    "data.tail(-5) # İLK 5 satırın gelmemesini istiyorsak bu şekilde yapmalıyız.(Tam tersi durum)"
   ]
  },
  {
   "cell_type": "markdown",
   "id": "fa7a3b1a-c72b-478e-99d7-72cf0019c0ae",
   "metadata": {},
   "source": [
    "# 3) Find Shape of Our Dataset (Number of Rows And Number of Columns) #"
   ]
  },
  {
   "cell_type": "code",
   "execution_count": 8,
   "id": "6ea721f8-7420-43ae-b1ff-975f3466af9e",
   "metadata": {},
   "outputs": [
    {
     "data": {
      "text/plain": [
       "(5000, 6)"
      ]
     },
     "execution_count": 8,
     "metadata": {},
     "output_type": "execute_result"
    }
   ],
   "source": [
    "data.shape"
   ]
  },
  {
   "cell_type": "code",
   "execution_count": 10,
   "id": "697e91b1-b99f-4277-8cc5-1ada470c3f8f",
   "metadata": {},
   "outputs": [
    {
     "name": "stdout",
     "output_type": "stream",
     "text": [
      "Number of Rows : 5000\n",
      "Number of Columns : 6\n"
     ]
    }
   ],
   "source": [
    "print(\"Number of Rows :\", data.shape[0])\n",
    "print(\"Number of Columns :\", data.shape[1])"
   ]
  },
  {
   "cell_type": "markdown",
   "id": "1a1c5183-afeb-4a52-bb60-cbfe71f5d38e",
   "metadata": {},
   "source": [
    "# 4) Get Information About Our Dataset Like Total Number Rows, Total Number of Columns, Datatypes of Each Column And Memory Requirement #"
   ]
  },
  {
   "cell_type": "code",
   "execution_count": 7,
   "id": "c327e058-9575-415c-990f-0f7004bc6625",
   "metadata": {},
   "outputs": [
    {
     "name": "stdout",
     "output_type": "stream",
     "text": [
      "<class 'pandas.core.frame.DataFrame'>\n",
      "RangeIndex: 5000 entries, 0 to 4999\n",
      "Data columns (total 6 columns):\n",
      " #   Column         Non-Null Count  Dtype \n",
      "---  ------         --------------  ----- \n",
      " 0   Rank           5000 non-null   object\n",
      " 1   Grade          5000 non-null   object\n",
      " 2   Channel name   5000 non-null   object\n",
      " 3   Video Uploads  5000 non-null   object\n",
      " 4   Subscribers    5000 non-null   object\n",
      " 5   Video views    5000 non-null   int64 \n",
      "dtypes: int64(1), object(5)\n",
      "memory usage: 234.5+ KB\n"
     ]
    }
   ],
   "source": [
    "data.info()"
   ]
  },
  {
   "cell_type": "markdown",
   "id": "4cff2eed-e3b9-4de8-814d-f1d75d058027",
   "metadata": {},
   "source": [
    "# 5) Get Overall Statistics About The Dataframe #"
   ]
  },
  {
   "cell_type": "code",
   "execution_count": 97,
   "id": "2ef71971-a38c-4dee-9540-998e12c3e69d",
   "metadata": {},
   "outputs": [
    {
     "data": {
      "text/html": [
       "<div>\n",
       "<style scoped>\n",
       "    .dataframe tbody tr th:only-of-type {\n",
       "        vertical-align: middle;\n",
       "    }\n",
       "\n",
       "    .dataframe tbody tr th {\n",
       "        vertical-align: top;\n",
       "    }\n",
       "\n",
       "    .dataframe thead th {\n",
       "        text-align: right;\n",
       "    }\n",
       "</style>\n",
       "<table border=\"1\" class=\"dataframe\">\n",
       "  <thead>\n",
       "    <tr style=\"text-align: right;\">\n",
       "      <th></th>\n",
       "      <th>Rank</th>\n",
       "      <th>Grade</th>\n",
       "      <th>Video Uploads</th>\n",
       "      <th>Subscribers</th>\n",
       "      <th>Video views</th>\n",
       "      <th>Avg_views</th>\n",
       "    </tr>\n",
       "  </thead>\n",
       "  <tbody>\n",
       "    <tr>\n",
       "      <th>count</th>\n",
       "      <td>4610.00</td>\n",
       "      <td>4610.00</td>\n",
       "      <td>4610.00</td>\n",
       "      <td>4610.00</td>\n",
       "      <td>4610.00</td>\n",
       "      <td>4610.00</td>\n",
       "    </tr>\n",
       "    <tr>\n",
       "      <th>mean</th>\n",
       "      <td>2496.08</td>\n",
       "      <td>1.63</td>\n",
       "      <td>4085.75</td>\n",
       "      <td>2621527.22</td>\n",
       "      <td>1138403081.18</td>\n",
       "      <td>5173346.67</td>\n",
       "    </tr>\n",
       "    <tr>\n",
       "      <th>std</th>\n",
       "      <td>1443.89</td>\n",
       "      <td>0.84</td>\n",
       "      <td>17726.16</td>\n",
       "      <td>3927262.53</td>\n",
       "      <td>2068705922.53</td>\n",
       "      <td>17520068.84</td>\n",
       "    </tr>\n",
       "    <tr>\n",
       "      <th>min</th>\n",
       "      <td>1.00</td>\n",
       "      <td>1.00</td>\n",
       "      <td>1.00</td>\n",
       "      <td>301.00</td>\n",
       "      <td>75.00</td>\n",
       "      <td>53.55</td>\n",
       "    </tr>\n",
       "    <tr>\n",
       "      <th>25%</th>\n",
       "      <td>1245.25</td>\n",
       "      <td>1.00</td>\n",
       "      <td>148.00</td>\n",
       "      <td>610192.50</td>\n",
       "      <td>218918407.50</td>\n",
       "      <td>322334.16</td>\n",
       "    </tr>\n",
       "    <tr>\n",
       "      <th>50%</th>\n",
       "      <td>2501.50</td>\n",
       "      <td>1.00</td>\n",
       "      <td>464.00</td>\n",
       "      <td>1350884.00</td>\n",
       "      <td>536888608.50</td>\n",
       "      <td>947295.49</td>\n",
       "    </tr>\n",
       "    <tr>\n",
       "      <th>75%</th>\n",
       "      <td>3740.75</td>\n",
       "      <td>2.00</td>\n",
       "      <td>1592.50</td>\n",
       "      <td>2950920.75</td>\n",
       "      <td>1195114974.75</td>\n",
       "      <td>2782315.49</td>\n",
       "    </tr>\n",
       "    <tr>\n",
       "      <th>max</th>\n",
       "      <td>5000.00</td>\n",
       "      <td>5.00</td>\n",
       "      <td>422326.00</td>\n",
       "      <td>65995310.00</td>\n",
       "      <td>47548839843.00</td>\n",
       "      <td>333012122.00</td>\n",
       "    </tr>\n",
       "  </tbody>\n",
       "</table>\n",
       "</div>"
      ],
      "text/plain": [
       "         Rank   Grade  Video Uploads  Subscribers    Video views    Avg_views\n",
       "count 4610.00 4610.00        4610.00      4610.00        4610.00      4610.00\n",
       "mean  2496.08    1.63        4085.75   2621527.22  1138403081.18   5173346.67\n",
       "std   1443.89    0.84       17726.16   3927262.53  2068705922.53  17520068.84\n",
       "min      1.00    1.00           1.00       301.00          75.00        53.55\n",
       "25%   1245.25    1.00         148.00    610192.50   218918407.50    322334.16\n",
       "50%   2501.50    1.00         464.00   1350884.00   536888608.50    947295.49\n",
       "75%   3740.75    2.00        1592.50   2950920.75  1195114974.75   2782315.49\n",
       "max   5000.00    5.00      422326.00  65995310.00 47548839843.00 333012122.00"
      ]
     },
     "execution_count": 97,
     "metadata": {},
     "output_type": "execute_result"
    }
   ],
   "source": [
    "data.describe() #---> Bunu dersek sadece numerik değerler gelecektir."
   ]
  },
  {
   "cell_type": "code",
   "execution_count": 96,
   "id": "d8de29d0-d033-4b32-aef6-df7a8982dcca",
   "metadata": {},
   "outputs": [
    {
     "data": {
      "text/html": [
       "<div>\n",
       "<style scoped>\n",
       "    .dataframe tbody tr th:only-of-type {\n",
       "        vertical-align: middle;\n",
       "    }\n",
       "\n",
       "    .dataframe tbody tr th {\n",
       "        vertical-align: top;\n",
       "    }\n",
       "\n",
       "    .dataframe thead th {\n",
       "        text-align: right;\n",
       "    }\n",
       "</style>\n",
       "<table border=\"1\" class=\"dataframe\">\n",
       "  <thead>\n",
       "    <tr style=\"text-align: right;\">\n",
       "      <th></th>\n",
       "      <th>Rank</th>\n",
       "      <th>Grade</th>\n",
       "      <th>Channel name</th>\n",
       "      <th>Video Uploads</th>\n",
       "      <th>Subscribers</th>\n",
       "      <th>Video views</th>\n",
       "      <th>Avg_views</th>\n",
       "    </tr>\n",
       "  </thead>\n",
       "  <tbody>\n",
       "    <tr>\n",
       "      <th>count</th>\n",
       "      <td>4610.00</td>\n",
       "      <td>4610.00</td>\n",
       "      <td>4610</td>\n",
       "      <td>4610.00</td>\n",
       "      <td>4610.00</td>\n",
       "      <td>4610.00</td>\n",
       "      <td>4610.00</td>\n",
       "    </tr>\n",
       "    <tr>\n",
       "      <th>unique</th>\n",
       "      <td>NaN</td>\n",
       "      <td>NaN</td>\n",
       "      <td>4604</td>\n",
       "      <td>NaN</td>\n",
       "      <td>NaN</td>\n",
       "      <td>NaN</td>\n",
       "      <td>NaN</td>\n",
       "    </tr>\n",
       "    <tr>\n",
       "      <th>top</th>\n",
       "      <td>NaN</td>\n",
       "      <td>NaN</td>\n",
       "      <td>Thơ Nguyễn</td>\n",
       "      <td>NaN</td>\n",
       "      <td>NaN</td>\n",
       "      <td>NaN</td>\n",
       "      <td>NaN</td>\n",
       "    </tr>\n",
       "    <tr>\n",
       "      <th>freq</th>\n",
       "      <td>NaN</td>\n",
       "      <td>NaN</td>\n",
       "      <td>2</td>\n",
       "      <td>NaN</td>\n",
       "      <td>NaN</td>\n",
       "      <td>NaN</td>\n",
       "      <td>NaN</td>\n",
       "    </tr>\n",
       "    <tr>\n",
       "      <th>mean</th>\n",
       "      <td>2496.08</td>\n",
       "      <td>1.63</td>\n",
       "      <td>NaN</td>\n",
       "      <td>4085.75</td>\n",
       "      <td>2621527.22</td>\n",
       "      <td>1138403081.18</td>\n",
       "      <td>5173346.67</td>\n",
       "    </tr>\n",
       "    <tr>\n",
       "      <th>std</th>\n",
       "      <td>1443.89</td>\n",
       "      <td>0.84</td>\n",
       "      <td>NaN</td>\n",
       "      <td>17726.16</td>\n",
       "      <td>3927262.53</td>\n",
       "      <td>2068705922.53</td>\n",
       "      <td>17520068.84</td>\n",
       "    </tr>\n",
       "    <tr>\n",
       "      <th>min</th>\n",
       "      <td>1.00</td>\n",
       "      <td>1.00</td>\n",
       "      <td>NaN</td>\n",
       "      <td>1.00</td>\n",
       "      <td>301.00</td>\n",
       "      <td>75.00</td>\n",
       "      <td>53.55</td>\n",
       "    </tr>\n",
       "    <tr>\n",
       "      <th>25%</th>\n",
       "      <td>1245.25</td>\n",
       "      <td>1.00</td>\n",
       "      <td>NaN</td>\n",
       "      <td>148.00</td>\n",
       "      <td>610192.50</td>\n",
       "      <td>218918407.50</td>\n",
       "      <td>322334.16</td>\n",
       "    </tr>\n",
       "    <tr>\n",
       "      <th>50%</th>\n",
       "      <td>2501.50</td>\n",
       "      <td>1.00</td>\n",
       "      <td>NaN</td>\n",
       "      <td>464.00</td>\n",
       "      <td>1350884.00</td>\n",
       "      <td>536888608.50</td>\n",
       "      <td>947295.49</td>\n",
       "    </tr>\n",
       "    <tr>\n",
       "      <th>75%</th>\n",
       "      <td>3740.75</td>\n",
       "      <td>2.00</td>\n",
       "      <td>NaN</td>\n",
       "      <td>1592.50</td>\n",
       "      <td>2950920.75</td>\n",
       "      <td>1195114974.75</td>\n",
       "      <td>2782315.49</td>\n",
       "    </tr>\n",
       "    <tr>\n",
       "      <th>max</th>\n",
       "      <td>5000.00</td>\n",
       "      <td>5.00</td>\n",
       "      <td>NaN</td>\n",
       "      <td>422326.00</td>\n",
       "      <td>65995310.00</td>\n",
       "      <td>47548839843.00</td>\n",
       "      <td>333012122.00</td>\n",
       "    </tr>\n",
       "  </tbody>\n",
       "</table>\n",
       "</div>"
      ],
      "text/plain": [
       "          Rank   Grade Channel name  Video Uploads  Subscribers  \\\n",
       "count  4610.00 4610.00         4610        4610.00      4610.00   \n",
       "unique     NaN     NaN         4604            NaN          NaN   \n",
       "top        NaN     NaN   Thơ Nguyễn            NaN          NaN   \n",
       "freq       NaN     NaN            2            NaN          NaN   \n",
       "mean   2496.08    1.63          NaN        4085.75   2621527.22   \n",
       "std    1443.89    0.84          NaN       17726.16   3927262.53   \n",
       "min       1.00    1.00          NaN           1.00       301.00   \n",
       "25%    1245.25    1.00          NaN         148.00    610192.50   \n",
       "50%    2501.50    1.00          NaN         464.00   1350884.00   \n",
       "75%    3740.75    2.00          NaN        1592.50   2950920.75   \n",
       "max    5000.00    5.00          NaN      422326.00  65995310.00   \n",
       "\n",
       "          Video views    Avg_views  \n",
       "count         4610.00      4610.00  \n",
       "unique            NaN          NaN  \n",
       "top               NaN          NaN  \n",
       "freq              NaN          NaN  \n",
       "mean    1138403081.18   5173346.67  \n",
       "std     2068705922.53  17520068.84  \n",
       "min             75.00        53.55  \n",
       "25%      218918407.50    322334.16  \n",
       "50%      536888608.50    947295.49  \n",
       "75%     1195114974.75   2782315.49  \n",
       "max    47548839843.00 333012122.00  "
      ]
     },
     "execution_count": 96,
     "metadata": {},
     "output_type": "execute_result"
    }
   ],
   "source": [
    "data.describe(include=\"all\") #---> Bu şekilde hepsini getirebiliriz."
   ]
  },
  {
   "cell_type": "markdown",
   "id": "dde470fd-1ad7-493f-9809-43e3e2a880da",
   "metadata": {},
   "source": [
    "# 6) Data Cleaning  (Replace '--'  to NaN) #"
   ]
  },
  {
   "cell_type": "markdown",
   "id": "c6065830-dab1-47f3-94fb-0f68cb9b3ca4",
   "metadata": {},
   "source": [
    "Bu değişimi yapabilmemiz için numpy kütüphanesini import edelim."
   ]
  },
  {
   "cell_type": "code",
   "execution_count": 91,
   "id": "7167c0a5-2a6e-4b07-be8c-c6e7187ecba6",
   "metadata": {},
   "outputs": [],
   "source": [
    "import numpy as np"
   ]
  },
  {
   "cell_type": "code",
   "execution_count": 14,
   "id": "e9abce20-072e-4b31-9ad5-59974033f5b5",
   "metadata": {},
   "outputs": [],
   "source": [
    "data=data.replace(\"--\",np.nan,regex=True) #--> regex= Regular expression = Düzenli ifadeler"
   ]
  },
  {
   "cell_type": "code",
   "execution_count": 92,
   "id": "6b136e8f-3236-4acb-a97c-7dd55c399950",
   "metadata": {},
   "outputs": [
    {
     "data": {
      "text/html": [
       "<div>\n",
       "<style scoped>\n",
       "    .dataframe tbody tr th:only-of-type {\n",
       "        vertical-align: middle;\n",
       "    }\n",
       "\n",
       "    .dataframe tbody tr th {\n",
       "        vertical-align: top;\n",
       "    }\n",
       "\n",
       "    .dataframe thead th {\n",
       "        text-align: right;\n",
       "    }\n",
       "</style>\n",
       "<table border=\"1\" class=\"dataframe\">\n",
       "  <thead>\n",
       "    <tr style=\"text-align: right;\">\n",
       "      <th></th>\n",
       "      <th>Rank</th>\n",
       "      <th>Grade</th>\n",
       "      <th>Channel name</th>\n",
       "      <th>Video Uploads</th>\n",
       "      <th>Subscribers</th>\n",
       "      <th>Video views</th>\n",
       "      <th>Avg_views</th>\n",
       "    </tr>\n",
       "  </thead>\n",
       "  <tbody>\n",
       "    <tr>\n",
       "      <th>0</th>\n",
       "      <td>1</td>\n",
       "      <td>5</td>\n",
       "      <td>Zee TV</td>\n",
       "      <td>82757</td>\n",
       "      <td>18752951</td>\n",
       "      <td>20869786591</td>\n",
       "      <td>252181.53</td>\n",
       "    </tr>\n",
       "    <tr>\n",
       "      <th>1</th>\n",
       "      <td>2</td>\n",
       "      <td>5</td>\n",
       "      <td>T-Series</td>\n",
       "      <td>12661</td>\n",
       "      <td>61196302</td>\n",
       "      <td>47548839843</td>\n",
       "      <td>3755535.89</td>\n",
       "    </tr>\n",
       "    <tr>\n",
       "      <th>2</th>\n",
       "      <td>3</td>\n",
       "      <td>5</td>\n",
       "      <td>Cocomelon - Nursery Rhymes</td>\n",
       "      <td>373</td>\n",
       "      <td>19238251</td>\n",
       "      <td>9793305082</td>\n",
       "      <td>26255509.60</td>\n",
       "    </tr>\n",
       "    <tr>\n",
       "      <th>3</th>\n",
       "      <td>4</td>\n",
       "      <td>5</td>\n",
       "      <td>SET India</td>\n",
       "      <td>27323</td>\n",
       "      <td>31180559</td>\n",
       "      <td>22675948293</td>\n",
       "      <td>829921.62</td>\n",
       "    </tr>\n",
       "    <tr>\n",
       "      <th>4</th>\n",
       "      <td>5</td>\n",
       "      <td>5</td>\n",
       "      <td>WWE</td>\n",
       "      <td>36756</td>\n",
       "      <td>32852346</td>\n",
       "      <td>26273668433</td>\n",
       "      <td>714813.05</td>\n",
       "    </tr>\n",
       "    <tr>\n",
       "      <th>5</th>\n",
       "      <td>6</td>\n",
       "      <td>5</td>\n",
       "      <td>Movieclips</td>\n",
       "      <td>30243</td>\n",
       "      <td>17149705</td>\n",
       "      <td>16618094724</td>\n",
       "      <td>549485.66</td>\n",
       "    </tr>\n",
       "    <tr>\n",
       "      <th>6</th>\n",
       "      <td>7</td>\n",
       "      <td>5</td>\n",
       "      <td>netd müzik</td>\n",
       "      <td>8500</td>\n",
       "      <td>11373567</td>\n",
       "      <td>23898730764</td>\n",
       "      <td>2811615.38</td>\n",
       "    </tr>\n",
       "    <tr>\n",
       "      <th>7</th>\n",
       "      <td>8</td>\n",
       "      <td>5</td>\n",
       "      <td>ABS-CBN Entertainment</td>\n",
       "      <td>100147</td>\n",
       "      <td>12149206</td>\n",
       "      <td>17202609850</td>\n",
       "      <td>171773.59</td>\n",
       "    </tr>\n",
       "    <tr>\n",
       "      <th>8</th>\n",
       "      <td>9</td>\n",
       "      <td>5</td>\n",
       "      <td>Ryan ToysReview</td>\n",
       "      <td>1140</td>\n",
       "      <td>16082927</td>\n",
       "      <td>24518098041</td>\n",
       "      <td>21507103.54</td>\n",
       "    </tr>\n",
       "    <tr>\n",
       "      <th>9</th>\n",
       "      <td>10</td>\n",
       "      <td>5</td>\n",
       "      <td>Zee Marathi</td>\n",
       "      <td>74607</td>\n",
       "      <td>2841811</td>\n",
       "      <td>2591830307</td>\n",
       "      <td>34739.77</td>\n",
       "    </tr>\n",
       "    <tr>\n",
       "      <th>10</th>\n",
       "      <td>11</td>\n",
       "      <td>4</td>\n",
       "      <td>5-Minute Crafts</td>\n",
       "      <td>2085</td>\n",
       "      <td>33492951</td>\n",
       "      <td>8587520379</td>\n",
       "      <td>4118714.81</td>\n",
       "    </tr>\n",
       "    <tr>\n",
       "      <th>11</th>\n",
       "      <td>12</td>\n",
       "      <td>4</td>\n",
       "      <td>Canal KondZilla</td>\n",
       "      <td>822</td>\n",
       "      <td>39409726</td>\n",
       "      <td>19291034467</td>\n",
       "      <td>23468411.76</td>\n",
       "    </tr>\n",
       "    <tr>\n",
       "      <th>12</th>\n",
       "      <td>13</td>\n",
       "      <td>4</td>\n",
       "      <td>Like Nastya Vlog</td>\n",
       "      <td>150</td>\n",
       "      <td>7662886</td>\n",
       "      <td>2540099931</td>\n",
       "      <td>16933999.54</td>\n",
       "    </tr>\n",
       "    <tr>\n",
       "      <th>13</th>\n",
       "      <td>14</td>\n",
       "      <td>4</td>\n",
       "      <td>Ozuna</td>\n",
       "      <td>50</td>\n",
       "      <td>18824912</td>\n",
       "      <td>8727783225</td>\n",
       "      <td>174555664.50</td>\n",
       "    </tr>\n",
       "    <tr>\n",
       "      <th>14</th>\n",
       "      <td>15</td>\n",
       "      <td>4</td>\n",
       "      <td>Wave Music</td>\n",
       "      <td>16119</td>\n",
       "      <td>15899764</td>\n",
       "      <td>10989179147</td>\n",
       "      <td>681753.16</td>\n",
       "    </tr>\n",
       "    <tr>\n",
       "      <th>15</th>\n",
       "      <td>16</td>\n",
       "      <td>4</td>\n",
       "      <td>Ch3Thailand</td>\n",
       "      <td>49239</td>\n",
       "      <td>11569723</td>\n",
       "      <td>9388600275</td>\n",
       "      <td>190674.06</td>\n",
       "    </tr>\n",
       "    <tr>\n",
       "      <th>16</th>\n",
       "      <td>17</td>\n",
       "      <td>4</td>\n",
       "      <td>WORLDSTARHIPHOP</td>\n",
       "      <td>4778</td>\n",
       "      <td>15830098</td>\n",
       "      <td>11102158475</td>\n",
       "      <td>2323599.51</td>\n",
       "    </tr>\n",
       "    <tr>\n",
       "      <th>18</th>\n",
       "      <td>19</td>\n",
       "      <td>4</td>\n",
       "      <td>Badabun</td>\n",
       "      <td>3060</td>\n",
       "      <td>23603062</td>\n",
       "      <td>5860444053</td>\n",
       "      <td>1915177.80</td>\n",
       "    </tr>\n",
       "    <tr>\n",
       "      <th>19</th>\n",
       "      <td>20</td>\n",
       "      <td>4</td>\n",
       "      <td>WorkpointOfficial</td>\n",
       "      <td>24287</td>\n",
       "      <td>17687229</td>\n",
       "      <td>14022189654</td>\n",
       "      <td>577353.71</td>\n",
       "    </tr>\n",
       "    <tr>\n",
       "      <th>20</th>\n",
       "      <td>21</td>\n",
       "      <td>4</td>\n",
       "      <td>xxxtentacion</td>\n",
       "      <td>48</td>\n",
       "      <td>11593509</td>\n",
       "      <td>2029279311</td>\n",
       "      <td>42276652.31</td>\n",
       "    </tr>\n",
       "  </tbody>\n",
       "</table>\n",
       "</div>"
      ],
      "text/plain": [
       "    Rank  Grade                Channel name  Video Uploads  Subscribers  \\\n",
       "0      1      5                      Zee TV          82757     18752951   \n",
       "1      2      5                    T-Series          12661     61196302   \n",
       "2      3      5  Cocomelon - Nursery Rhymes            373     19238251   \n",
       "3      4      5                   SET India          27323     31180559   \n",
       "4      5      5                         WWE          36756     32852346   \n",
       "5      6      5                  Movieclips          30243     17149705   \n",
       "6      7      5                  netd müzik           8500     11373567   \n",
       "7      8      5       ABS-CBN Entertainment         100147     12149206   \n",
       "8      9      5             Ryan ToysReview           1140     16082927   \n",
       "9     10      5                 Zee Marathi          74607      2841811   \n",
       "10    11      4             5-Minute Crafts           2085     33492951   \n",
       "11    12      4             Canal KondZilla            822     39409726   \n",
       "12    13      4            Like Nastya Vlog            150      7662886   \n",
       "13    14      4                       Ozuna             50     18824912   \n",
       "14    15      4                  Wave Music          16119     15899764   \n",
       "15    16      4                 Ch3Thailand          49239     11569723   \n",
       "16    17      4             WORLDSTARHIPHOP           4778     15830098   \n",
       "18    19      4                     Badabun           3060     23603062   \n",
       "19    20      4           WorkpointOfficial          24287     17687229   \n",
       "20    21      4                xxxtentacion             48     11593509   \n",
       "\n",
       "    Video views    Avg_views  \n",
       "0   20869786591    252181.53  \n",
       "1   47548839843   3755535.89  \n",
       "2    9793305082  26255509.60  \n",
       "3   22675948293    829921.62  \n",
       "4   26273668433    714813.05  \n",
       "5   16618094724    549485.66  \n",
       "6   23898730764   2811615.38  \n",
       "7   17202609850    171773.59  \n",
       "8   24518098041  21507103.54  \n",
       "9    2591830307     34739.77  \n",
       "10   8587520379   4118714.81  \n",
       "11  19291034467  23468411.76  \n",
       "12   2540099931  16933999.54  \n",
       "13   8727783225 174555664.50  \n",
       "14  10989179147    681753.16  \n",
       "15   9388600275    190674.06  \n",
       "16  11102158475   2323599.51  \n",
       "18   5860444053   1915177.80  \n",
       "19  14022189654    577353.71  \n",
       "20   2029279311  42276652.31  "
      ]
     },
     "execution_count": 92,
     "metadata": {},
     "output_type": "execute_result"
    }
   ],
   "source": [
    "data.head(20)"
   ]
  },
  {
   "cell_type": "markdown",
   "id": "a406d0eb-6384-4ec0-942b-b2b92246ed3b",
   "metadata": {},
   "source": [
    "# 7) Check Null Values In The Dataset #"
   ]
  },
  {
   "cell_type": "code",
   "execution_count": 93,
   "id": "2e07d08b-c9ae-4164-af3c-fdc9bc20390d",
   "metadata": {},
   "outputs": [
    {
     "data": {
      "text/html": [
       "<div>\n",
       "<style scoped>\n",
       "    .dataframe tbody tr th:only-of-type {\n",
       "        vertical-align: middle;\n",
       "    }\n",
       "\n",
       "    .dataframe tbody tr th {\n",
       "        vertical-align: top;\n",
       "    }\n",
       "\n",
       "    .dataframe thead th {\n",
       "        text-align: right;\n",
       "    }\n",
       "</style>\n",
       "<table border=\"1\" class=\"dataframe\">\n",
       "  <thead>\n",
       "    <tr style=\"text-align: right;\">\n",
       "      <th></th>\n",
       "      <th>Rank</th>\n",
       "      <th>Grade</th>\n",
       "      <th>Channel name</th>\n",
       "      <th>Video Uploads</th>\n",
       "      <th>Subscribers</th>\n",
       "      <th>Video views</th>\n",
       "      <th>Avg_views</th>\n",
       "    </tr>\n",
       "  </thead>\n",
       "  <tbody>\n",
       "    <tr>\n",
       "      <th>0</th>\n",
       "      <td>False</td>\n",
       "      <td>False</td>\n",
       "      <td>False</td>\n",
       "      <td>False</td>\n",
       "      <td>False</td>\n",
       "      <td>False</td>\n",
       "      <td>False</td>\n",
       "    </tr>\n",
       "    <tr>\n",
       "      <th>1</th>\n",
       "      <td>False</td>\n",
       "      <td>False</td>\n",
       "      <td>False</td>\n",
       "      <td>False</td>\n",
       "      <td>False</td>\n",
       "      <td>False</td>\n",
       "      <td>False</td>\n",
       "    </tr>\n",
       "    <tr>\n",
       "      <th>2</th>\n",
       "      <td>False</td>\n",
       "      <td>False</td>\n",
       "      <td>False</td>\n",
       "      <td>False</td>\n",
       "      <td>False</td>\n",
       "      <td>False</td>\n",
       "      <td>False</td>\n",
       "    </tr>\n",
       "    <tr>\n",
       "      <th>3</th>\n",
       "      <td>False</td>\n",
       "      <td>False</td>\n",
       "      <td>False</td>\n",
       "      <td>False</td>\n",
       "      <td>False</td>\n",
       "      <td>False</td>\n",
       "      <td>False</td>\n",
       "    </tr>\n",
       "    <tr>\n",
       "      <th>4</th>\n",
       "      <td>False</td>\n",
       "      <td>False</td>\n",
       "      <td>False</td>\n",
       "      <td>False</td>\n",
       "      <td>False</td>\n",
       "      <td>False</td>\n",
       "      <td>False</td>\n",
       "    </tr>\n",
       "    <tr>\n",
       "      <th>...</th>\n",
       "      <td>...</td>\n",
       "      <td>...</td>\n",
       "      <td>...</td>\n",
       "      <td>...</td>\n",
       "      <td>...</td>\n",
       "      <td>...</td>\n",
       "      <td>...</td>\n",
       "    </tr>\n",
       "    <tr>\n",
       "      <th>4995</th>\n",
       "      <td>False</td>\n",
       "      <td>False</td>\n",
       "      <td>False</td>\n",
       "      <td>False</td>\n",
       "      <td>False</td>\n",
       "      <td>False</td>\n",
       "      <td>False</td>\n",
       "    </tr>\n",
       "    <tr>\n",
       "      <th>4996</th>\n",
       "      <td>False</td>\n",
       "      <td>False</td>\n",
       "      <td>False</td>\n",
       "      <td>False</td>\n",
       "      <td>False</td>\n",
       "      <td>False</td>\n",
       "      <td>False</td>\n",
       "    </tr>\n",
       "    <tr>\n",
       "      <th>4997</th>\n",
       "      <td>False</td>\n",
       "      <td>False</td>\n",
       "      <td>False</td>\n",
       "      <td>False</td>\n",
       "      <td>False</td>\n",
       "      <td>False</td>\n",
       "      <td>False</td>\n",
       "    </tr>\n",
       "    <tr>\n",
       "      <th>4998</th>\n",
       "      <td>False</td>\n",
       "      <td>False</td>\n",
       "      <td>False</td>\n",
       "      <td>False</td>\n",
       "      <td>False</td>\n",
       "      <td>False</td>\n",
       "      <td>False</td>\n",
       "    </tr>\n",
       "    <tr>\n",
       "      <th>4999</th>\n",
       "      <td>False</td>\n",
       "      <td>False</td>\n",
       "      <td>False</td>\n",
       "      <td>False</td>\n",
       "      <td>False</td>\n",
       "      <td>False</td>\n",
       "      <td>False</td>\n",
       "    </tr>\n",
       "  </tbody>\n",
       "</table>\n",
       "<p>4610 rows × 7 columns</p>\n",
       "</div>"
      ],
      "text/plain": [
       "       Rank  Grade  Channel name  Video Uploads  Subscribers  Video views  \\\n",
       "0     False  False         False          False        False        False   \n",
       "1     False  False         False          False        False        False   \n",
       "2     False  False         False          False        False        False   \n",
       "3     False  False         False          False        False        False   \n",
       "4     False  False         False          False        False        False   \n",
       "...     ...    ...           ...            ...          ...          ...   \n",
       "4995  False  False         False          False        False        False   \n",
       "4996  False  False         False          False        False        False   \n",
       "4997  False  False         False          False        False        False   \n",
       "4998  False  False         False          False        False        False   \n",
       "4999  False  False         False          False        False        False   \n",
       "\n",
       "      Avg_views  \n",
       "0         False  \n",
       "1         False  \n",
       "2         False  \n",
       "3         False  \n",
       "4         False  \n",
       "...         ...  \n",
       "4995      False  \n",
       "4996      False  \n",
       "4997      False  \n",
       "4998      False  \n",
       "4999      False  \n",
       "\n",
       "[4610 rows x 7 columns]"
      ]
     },
     "execution_count": 93,
     "metadata": {},
     "output_type": "execute_result"
    }
   ],
   "source": [
    "data.isnull()"
   ]
  },
  {
   "cell_type": "code",
   "execution_count": 103,
   "id": "13552190-6717-44dd-a215-6e7034a17e0f",
   "metadata": {},
   "outputs": [
    {
     "data": {
      "text/plain": [
       "Rank             0\n",
       "Grade            0\n",
       "Channel name     0\n",
       "Video Uploads    0\n",
       "Subscribers      0\n",
       "Video views      0\n",
       "Avg_views        0\n",
       "dtype: int64"
      ]
     },
     "execution_count": 103,
     "metadata": {},
     "output_type": "execute_result"
    }
   ],
   "source": [
    "data.isnull().sum() #--> Her bir kategoride kaç tane var bulmak için."
   ]
  },
  {
   "cell_type": "code",
   "execution_count": 95,
   "id": "0f60db8e-a8d1-4a2a-bb01-2f05c04cfcf1",
   "metadata": {},
   "outputs": [
    {
     "data": {
      "text/plain": [
       "Rank            0.00\n",
       "Grade           0.00\n",
       "Channel name    0.00\n",
       "Video Uploads   0.00\n",
       "Subscribers     0.00\n",
       "Video views     0.00\n",
       "Avg_views       0.00\n",
       "dtype: float64"
      ]
     },
     "execution_count": 95,
     "metadata": {},
     "output_type": "execute_result"
    }
   ],
   "source": [
    "per_missing= data.isnull().sum()*100 /len(data)\n",
    "per_missing"
   ]
  },
  {
   "cell_type": "code",
   "execution_count": 102,
   "id": "6d105424-422c-4b79-802e-14dc0e412dc9",
   "metadata": {},
   "outputs": [
    {
     "data": {
      "text/plain": [
       "<AxesSubplot:>"
      ]
     },
     "execution_count": 102,
     "metadata": {},
     "output_type": "execute_result"
    },
    {
     "data": {
      "image/png": "[encoded data removed]",
      "text/plain": [
       "<Figure size 432x288 with 2 Axes>"
      ]
     },
     "metadata": {
      "needs_background": "light"
     },
     "output_type": "display_data"
    }
   ],
   "source": [
    "sns.heatmap(data.isnull())"
   ]
  },
  {
   "cell_type": "code",
   "execution_count": 88,
   "id": "f9f02eed-f717-4635-a05e-038b11acbacb",
   "metadata": {},
   "outputs": [],
   "source": [
    "data.dropna(axis=0,inplace=True) #dropna ile missing value leri silebiliyoruz.Satırda olmasına dikkat ediyoruz."
   ]
  },
  {
   "cell_type": "markdown",
   "id": "239c623f-7c05-4a87-96e9-5ac98e144354",
   "metadata": {},
   "source": [
    "# 8) Data Cleaning [ Rank Column ] #"
   ]
  },
  {
   "cell_type": "code",
   "execution_count": 25,
   "id": "a87b1fc2-8653-4930-a4dd-3dff9f433c7b",
   "metadata": {},
   "outputs": [
    {
     "data": {
      "text/plain": [
       "Index(['Rank', 'Grade', 'Channel name', 'Video Uploads', 'Subscribers',\n",
       "       'Video views'],\n",
       "      dtype='object')"
      ]
     },
     "execution_count": 25,
     "metadata": {},
     "output_type": "execute_result"
    }
   ],
   "source": [
    "data.columns"
   ]
  },
  {
   "cell_type": "code",
   "execution_count": 30,
   "id": "24cb67c8-6a84-49b4-a667-517bc215334d",
   "metadata": {},
   "outputs": [
    {
     "data": {
      "text/plain": [
       "dtype('O')"
      ]
     },
     "execution_count": 30,
     "metadata": {},
     "output_type": "execute_result"
    }
   ],
   "source": [
    "data[\"Rank\"].dtype #--> Obje olduğunu görmekteyiz."
   ]
  },
  {
   "cell_type": "code",
   "execution_count": 33,
   "id": "d85196e1-cf76-42b4-8267-78c7b3165c0f",
   "metadata": {},
   "outputs": [
    {
     "data": {
      "text/html": [
       "<div>\n",
       "<style scoped>\n",
       "    .dataframe tbody tr th:only-of-type {\n",
       "        vertical-align: middle;\n",
       "    }\n",
       "\n",
       "    .dataframe tbody tr th {\n",
       "        vertical-align: top;\n",
       "    }\n",
       "\n",
       "    .dataframe thead th {\n",
       "        text-align: right;\n",
       "    }\n",
       "</style>\n",
       "<table border=\"1\" class=\"dataframe\">\n",
       "  <thead>\n",
       "    <tr style=\"text-align: right;\">\n",
       "      <th></th>\n",
       "      <th>index</th>\n",
       "      <th>Rank</th>\n",
       "    </tr>\n",
       "  </thead>\n",
       "  <tbody>\n",
       "    <tr>\n",
       "      <th>0</th>\n",
       "      <td>0</td>\n",
       "      <td>1st</td>\n",
       "    </tr>\n",
       "    <tr>\n",
       "      <th>1</th>\n",
       "      <td>1</td>\n",
       "      <td>2nd</td>\n",
       "    </tr>\n",
       "    <tr>\n",
       "      <th>2</th>\n",
       "      <td>2</td>\n",
       "      <td>3rd</td>\n",
       "    </tr>\n",
       "    <tr>\n",
       "      <th>3</th>\n",
       "      <td>3</td>\n",
       "      <td>4th</td>\n",
       "    </tr>\n",
       "    <tr>\n",
       "      <th>4</th>\n",
       "      <td>4</td>\n",
       "      <td>5th</td>\n",
       "    </tr>\n",
       "    <tr>\n",
       "      <th>...</th>\n",
       "      <td>...</td>\n",
       "      <td>...</td>\n",
       "    </tr>\n",
       "    <tr>\n",
       "      <th>4605</th>\n",
       "      <td>4995</td>\n",
       "      <td>4,996th</td>\n",
       "    </tr>\n",
       "    <tr>\n",
       "      <th>4606</th>\n",
       "      <td>4996</td>\n",
       "      <td>4,997th</td>\n",
       "    </tr>\n",
       "    <tr>\n",
       "      <th>4607</th>\n",
       "      <td>4997</td>\n",
       "      <td>4,998th</td>\n",
       "    </tr>\n",
       "    <tr>\n",
       "      <th>4608</th>\n",
       "      <td>4998</td>\n",
       "      <td>4,999th</td>\n",
       "    </tr>\n",
       "    <tr>\n",
       "      <th>4609</th>\n",
       "      <td>4999</td>\n",
       "      <td>5,000th</td>\n",
       "    </tr>\n",
       "  </tbody>\n",
       "</table>\n",
       "<p>4610 rows × 2 columns</p>\n",
       "</div>"
      ],
      "text/plain": [
       "      index     Rank\n",
       "0         0      1st\n",
       "1         1      2nd\n",
       "2         2      3rd\n",
       "3         3      4th\n",
       "4         4      5th\n",
       "...     ...      ...\n",
       "4605   4995  4,996th\n",
       "4606   4996  4,997th\n",
       "4607   4997  4,998th\n",
       "4608   4998  4,999th\n",
       "4609   4999  5,000th\n",
       "\n",
       "[4610 rows x 2 columns]"
      ]
     },
     "execution_count": 33,
     "metadata": {},
     "output_type": "execute_result"
    }
   ],
   "source": [
    "data[\"Rank\"].reset_index() # st,nd,rd,th.. bu ifadeleri silerek integer a çevirebiliriz."
   ]
  },
  {
   "cell_type": "code",
   "execution_count": 34,
   "id": "298fac77-0201-4061-87f4-a60ed49d24c4",
   "metadata": {},
   "outputs": [],
   "source": [
    "data[\"Rank\"]=data[\"Rank\"].str[0:-2] #--> str[a:b] ifadesi ile fazla olan eklentiyi silebiliriz. (th) h= -1 t =-2 için kullanıldı."
   ]
  },
  {
   "cell_type": "code",
   "execution_count": 35,
   "id": "52ded350-bc5b-4291-9b4e-3f54680454a6",
   "metadata": {},
   "outputs": [
    {
     "data": {
      "text/plain": [
       "0           1\n",
       "1           2\n",
       "2           3\n",
       "3           4\n",
       "4           5\n",
       "        ...  \n",
       "4995    4,996\n",
       "4996    4,997\n",
       "4997    4,998\n",
       "4998    4,999\n",
       "4999    5,000\n",
       "Name: Rank, Length: 4610, dtype: object"
      ]
     },
     "execution_count": 35,
     "metadata": {},
     "output_type": "execute_result"
    }
   ],
   "source": [
    "data[\"Rank\"]"
   ]
  },
  {
   "cell_type": "markdown",
   "id": "64c6bdee-ae7f-463b-95b8-9bab3b75f3e9",
   "metadata": {},
   "source": [
    "Şimdi ise sıra virgülleri kaldırmaya geldi."
   ]
  },
  {
   "cell_type": "code",
   "execution_count": 36,
   "id": "168431db-82a2-47be-ab07-3beb28fdc0b3",
   "metadata": {},
   "outputs": [],
   "source": [
    "data[\"Rank\"]=data[\"Rank\"].str.replace(\",\",\"\") # str.replace= yer değiştirmek için kullanıyoruz."
   ]
  },
  {
   "cell_type": "code",
   "execution_count": 37,
   "id": "030205f3-1611-43a4-b74a-89dc35732a7d",
   "metadata": {},
   "outputs": [
    {
     "data": {
      "text/plain": [
       "0          1\n",
       "1          2\n",
       "2          3\n",
       "3          4\n",
       "4          5\n",
       "        ... \n",
       "4995    4996\n",
       "4996    4997\n",
       "4997    4998\n",
       "4998    4999\n",
       "4999    5000\n",
       "Name: Rank, Length: 4610, dtype: object"
      ]
     },
     "execution_count": 37,
     "metadata": {},
     "output_type": "execute_result"
    }
   ],
   "source": [
    "data[\"Rank\"]"
   ]
  },
  {
   "cell_type": "code",
   "execution_count": 38,
   "id": "8f72a83d-4dd0-43db-ab54-e756f21598d0",
   "metadata": {},
   "outputs": [],
   "source": [
    "data[\"Rank\"]=data[\"Rank\"].str.replace(\",\",\"\").astype(\"int\")"
   ]
  },
  {
   "cell_type": "code",
   "execution_count": 39,
   "id": "7869ebf6-029a-4fac-8846-db9546fafe99",
   "metadata": {},
   "outputs": [
    {
     "data": {
      "text/plain": [
       "dtype('int32')"
      ]
     },
     "execution_count": 39,
     "metadata": {},
     "output_type": "execute_result"
    }
   ],
   "source": [
    "data[\"Rank\"].dtype #--> Görüldüğü üzere integer değer oldu."
   ]
  },
  {
   "cell_type": "markdown",
   "id": "b70ff282-f01b-4ed6-a9ca-5bfcca2df165",
   "metadata": {},
   "source": [
    "# 9) Data Cleaning [ Video Uploads & Subscribers ] #"
   ]
  },
  {
   "cell_type": "code",
   "execution_count": 40,
   "id": "224d91ec-6d72-4721-8352-b3d5113ac8f8",
   "metadata": {},
   "outputs": [
    {
     "data": {
      "text/plain": [
       "Index(['Rank', 'Grade', 'Channel name', 'Video Uploads', 'Subscribers',\n",
       "       'Video views'],\n",
       "      dtype='object')"
      ]
     },
     "execution_count": 40,
     "metadata": {},
     "output_type": "execute_result"
    }
   ],
   "source": [
    "data.columns"
   ]
  },
  {
   "cell_type": "code",
   "execution_count": 42,
   "id": "b574b202-0590-450f-8a1f-18ca286e5402",
   "metadata": {},
   "outputs": [
    {
     "data": {
      "text/plain": [
       "dtype('O')"
      ]
     },
     "execution_count": 42,
     "metadata": {},
     "output_type": "execute_result"
    }
   ],
   "source": [
    "data[\"Video Uploads\"].dtype # --> object olduğunu görüyoruz."
   ]
  },
  {
   "cell_type": "code",
   "execution_count": 43,
   "id": "a6f8763b-afd5-4a50-94aa-6bd262e9edc0",
   "metadata": {},
   "outputs": [],
   "source": [
    "data[\"Video Uploads\"]=data[\"Video Uploads\"].astype(\"int\")"
   ]
  },
  {
   "cell_type": "code",
   "execution_count": 44,
   "id": "3767e15a-254e-4490-a346-3e45249394e8",
   "metadata": {},
   "outputs": [
    {
     "data": {
      "text/plain": [
       "dtype('int32')"
      ]
     },
     "execution_count": 44,
     "metadata": {},
     "output_type": "execute_result"
    }
   ],
   "source": [
    "data[\"Video Uploads\"].dtype #--> Görüldüğü üzere integer oldu."
   ]
  },
  {
   "cell_type": "code",
   "execution_count": 45,
   "id": "1318b3b6-201d-4172-a3da-db149b6466cc",
   "metadata": {},
   "outputs": [
    {
     "data": {
      "text/plain": [
       "dtype('O')"
      ]
     },
     "execution_count": 45,
     "metadata": {},
     "output_type": "execute_result"
    }
   ],
   "source": [
    "data[\"Subscribers\"].dtype # object olduğunu görüyoruz."
   ]
  },
  {
   "cell_type": "code",
   "execution_count": 46,
   "id": "e09a7471-0852-4b6d-9088-f7f2d12d89c4",
   "metadata": {},
   "outputs": [],
   "source": [
    "data[\"Subscribers\"]=data[\"Subscribers\"].astype(\"int\")"
   ]
  },
  {
   "cell_type": "code",
   "execution_count": 48,
   "id": "09f3c9bf-8eae-4a8c-9e56-cd8b35a75fdc",
   "metadata": {},
   "outputs": [
    {
     "data": {
      "text/plain": [
       "dtype('int32')"
      ]
     },
     "execution_count": 48,
     "metadata": {},
     "output_type": "execute_result"
    }
   ],
   "source": [
    "data[\"Subscribers\"].dtype # integer oldu."
   ]
  },
  {
   "cell_type": "markdown",
   "id": "37306edf-b505-417c-a0f5-391ff42e1ae2",
   "metadata": {},
   "source": [
    "# 10) Data Cleaning [ Grade Column ] #"
   ]
  },
  {
   "cell_type": "code",
   "execution_count": 50,
   "id": "c1d1a03e-90bd-4c7f-84db-ea609a4f8549",
   "metadata": {},
   "outputs": [
    {
     "data": {
      "text/plain": [
       "array(['A++ ', 'A+ ', 'A ', 'A- ', 'B+ '], dtype=object)"
      ]
     },
     "execution_count": 50,
     "metadata": {},
     "output_type": "execute_result"
    }
   ],
   "source": [
    "data[\"Grade\"].unique() # unique() dediğimizde bütün farklı değerleri getirecektir."
   ]
  },
  {
   "cell_type": "code",
   "execution_count": 52,
   "id": "ea1d46f8-6bc6-4ad7-bd21-f2a0e18f5c9e",
   "metadata": {},
   "outputs": [
    {
     "data": {
      "text/plain": [
       "5"
      ]
     },
     "execution_count": 52,
     "metadata": {},
     "output_type": "execute_result"
    }
   ],
   "source": [
    "data[\"Grade\"].nunique() # nunique() dediğimizde farklı ifadeleri sayıp getirecektir."
   ]
  },
  {
   "cell_type": "markdown",
   "id": "a53558ac-3d0e-4b67-b35c-76fef1ddb0b7",
   "metadata": {},
   "source": [
    "['A++ ', 'A+ ', 'A ', 'A- ', 'B+ '] Bu değerlerin yerine sırasıyla 5 4 3 2 1 yazdıralım.Map fonksiyonu kullanılmalıdlr."
   ]
  },
  {
   "cell_type": "markdown",
   "id": "9cfc0b3a-d074-438e-94de-1e3d5aca1183",
   "metadata": {},
   "source": [
    "Makine öğrenmesi algoritmaları nümerik ifadelerle çalışmaktadır.O yüzden nümerik ifadelere çevirmek bizim için avantajlı olacaktır."
   ]
  },
  {
   "cell_type": "code",
   "execution_count": 53,
   "id": "5e5bbbf9-bbf6-48b1-98a6-7629603916c3",
   "metadata": {},
   "outputs": [],
   "source": [
    "data[\"Grade\"]=data[\"Grade\"].map({\"A++ \":5,\"A+ \":4,\"A \":3,\"A- \":2,\"B+ \":1})"
   ]
  },
  {
   "cell_type": "code",
   "execution_count": 55,
   "id": "131848b6-29a4-485c-b4e6-e6f50ea8e20f",
   "metadata": {},
   "outputs": [
    {
     "data": {
      "text/html": [
       "<div>\n",
       "<style scoped>\n",
       "    .dataframe tbody tr th:only-of-type {\n",
       "        vertical-align: middle;\n",
       "    }\n",
       "\n",
       "    .dataframe tbody tr th {\n",
       "        vertical-align: top;\n",
       "    }\n",
       "\n",
       "    .dataframe thead th {\n",
       "        text-align: right;\n",
       "    }\n",
       "</style>\n",
       "<table border=\"1\" class=\"dataframe\">\n",
       "  <thead>\n",
       "    <tr style=\"text-align: right;\">\n",
       "      <th></th>\n",
       "      <th>index</th>\n",
       "      <th>Grade</th>\n",
       "    </tr>\n",
       "  </thead>\n",
       "  <tbody>\n",
       "    <tr>\n",
       "      <th>0</th>\n",
       "      <td>0</td>\n",
       "      <td>5</td>\n",
       "    </tr>\n",
       "    <tr>\n",
       "      <th>1</th>\n",
       "      <td>1</td>\n",
       "      <td>5</td>\n",
       "    </tr>\n",
       "    <tr>\n",
       "      <th>2</th>\n",
       "      <td>2</td>\n",
       "      <td>5</td>\n",
       "    </tr>\n",
       "    <tr>\n",
       "      <th>3</th>\n",
       "      <td>3</td>\n",
       "      <td>5</td>\n",
       "    </tr>\n",
       "    <tr>\n",
       "      <th>4</th>\n",
       "      <td>4</td>\n",
       "      <td>5</td>\n",
       "    </tr>\n",
       "    <tr>\n",
       "      <th>...</th>\n",
       "      <td>...</td>\n",
       "      <td>...</td>\n",
       "    </tr>\n",
       "    <tr>\n",
       "      <th>4605</th>\n",
       "      <td>4995</td>\n",
       "      <td>1</td>\n",
       "    </tr>\n",
       "    <tr>\n",
       "      <th>4606</th>\n",
       "      <td>4996</td>\n",
       "      <td>1</td>\n",
       "    </tr>\n",
       "    <tr>\n",
       "      <th>4607</th>\n",
       "      <td>4997</td>\n",
       "      <td>1</td>\n",
       "    </tr>\n",
       "    <tr>\n",
       "      <th>4608</th>\n",
       "      <td>4998</td>\n",
       "      <td>1</td>\n",
       "    </tr>\n",
       "    <tr>\n",
       "      <th>4609</th>\n",
       "      <td>4999</td>\n",
       "      <td>1</td>\n",
       "    </tr>\n",
       "  </tbody>\n",
       "</table>\n",
       "<p>4610 rows × 2 columns</p>\n",
       "</div>"
      ],
      "text/plain": [
       "      index  Grade\n",
       "0         0      5\n",
       "1         1      5\n",
       "2         2      5\n",
       "3         3      5\n",
       "4         4      5\n",
       "...     ...    ...\n",
       "4605   4995      1\n",
       "4606   4996      1\n",
       "4607   4997      1\n",
       "4608   4998      1\n",
       "4609   4999      1\n",
       "\n",
       "[4610 rows x 2 columns]"
      ]
     },
     "execution_count": 55,
     "metadata": {},
     "output_type": "execute_result"
    }
   ],
   "source": [
    "data[\"Grade\"].reset_index() #--> Daha iyi bir görünüm elde etmek amacıyla reset_index kullanıyoruz."
   ]
  },
  {
   "cell_type": "markdown",
   "id": "5dc2be07-0805-4859-8ec6-894768d7a436",
   "metadata": {},
   "source": [
    "# 11) Find Average Views For Each Channel #"
   ]
  },
  {
   "cell_type": "markdown",
   "id": "d7e821aa-4cd0-45b7-bc8d-9f5f5166ec42",
   "metadata": {},
   "source": [
    "Average Views adında yeni bir sütun oluşturalım."
   ]
  },
  {
   "cell_type": "code",
   "execution_count": 101,
   "id": "5916c8e1-18bc-4ae5-98da-de073fbb65ed",
   "metadata": {},
   "outputs": [],
   "source": [
    "data[\"Avg_views\"]=data[\"Video views\"]/data[\"Video Uploads\"]"
   ]
  },
  {
   "cell_type": "code",
   "execution_count": 57,
   "id": "7a312da8-f69b-406e-8c4c-157b5276da4c",
   "metadata": {},
   "outputs": [
    {
     "data": {
      "text/html": [
       "<div>\n",
       "<style scoped>\n",
       "    .dataframe tbody tr th:only-of-type {\n",
       "        vertical-align: middle;\n",
       "    }\n",
       "\n",
       "    .dataframe tbody tr th {\n",
       "        vertical-align: top;\n",
       "    }\n",
       "\n",
       "    .dataframe thead th {\n",
       "        text-align: right;\n",
       "    }\n",
       "</style>\n",
       "<table border=\"1\" class=\"dataframe\">\n",
       "  <thead>\n",
       "    <tr style=\"text-align: right;\">\n",
       "      <th></th>\n",
       "      <th>Rank</th>\n",
       "      <th>Grade</th>\n",
       "      <th>Channel name</th>\n",
       "      <th>Video Uploads</th>\n",
       "      <th>Subscribers</th>\n",
       "      <th>Video views</th>\n",
       "      <th>Avg_views</th>\n",
       "    </tr>\n",
       "  </thead>\n",
       "  <tbody>\n",
       "    <tr>\n",
       "      <th>0</th>\n",
       "      <td>1</td>\n",
       "      <td>5</td>\n",
       "      <td>Zee TV</td>\n",
       "      <td>82757</td>\n",
       "      <td>18752951</td>\n",
       "      <td>20869786591</td>\n",
       "      <td>2.521815e+05</td>\n",
       "    </tr>\n",
       "    <tr>\n",
       "      <th>1</th>\n",
       "      <td>2</td>\n",
       "      <td>5</td>\n",
       "      <td>T-Series</td>\n",
       "      <td>12661</td>\n",
       "      <td>61196302</td>\n",
       "      <td>47548839843</td>\n",
       "      <td>3.755536e+06</td>\n",
       "    </tr>\n",
       "  </tbody>\n",
       "</table>\n",
       "</div>"
      ],
      "text/plain": [
       "   Rank  Grade Channel name  Video Uploads  Subscribers  Video views  \\\n",
       "0     1      5       Zee TV          82757     18752951  20869786591   \n",
       "1     2      5     T-Series          12661     61196302  47548839843   \n",
       "\n",
       "      Avg_views  \n",
       "0  2.521815e+05  \n",
       "1  3.755536e+06  "
      ]
     },
     "execution_count": 57,
     "metadata": {},
     "output_type": "execute_result"
    }
   ],
   "source": [
    "data.head(2) #--> Görüldüğü üzere oluştu."
   ]
  },
  {
   "cell_type": "code",
   "execution_count": null,
   "id": "1e9af6da-8287-4fa7-a739-d75221205434",
   "metadata": {},
   "outputs": [],
   "source": []
  },
  {
   "cell_type": "markdown",
   "id": "5c5f59a7-27cb-4cea-95fe-0cdfed1315be",
   "metadata": {},
   "source": [
    "# 12) Find Out Top Five Channels With Maximum Number of Video Uploads #"
   ]
  },
  {
   "cell_type": "code",
   "execution_count": 60,
   "id": "a9d2956c-6a4a-498b-94b7-a1a0946cb1ec",
   "metadata": {},
   "outputs": [
    {
     "data": {
      "text/html": [
       "<div>\n",
       "<style scoped>\n",
       "    .dataframe tbody tr th:only-of-type {\n",
       "        vertical-align: middle;\n",
       "    }\n",
       "\n",
       "    .dataframe tbody tr th {\n",
       "        vertical-align: top;\n",
       "    }\n",
       "\n",
       "    .dataframe thead th {\n",
       "        text-align: right;\n",
       "    }\n",
       "</style>\n",
       "<table border=\"1\" class=\"dataframe\">\n",
       "  <thead>\n",
       "    <tr style=\"text-align: right;\">\n",
       "      <th></th>\n",
       "      <th>index</th>\n",
       "      <th>Video Uploads</th>\n",
       "    </tr>\n",
       "  </thead>\n",
       "  <tbody>\n",
       "    <tr>\n",
       "      <th>0</th>\n",
       "      <td>3453</td>\n",
       "      <td>422326</td>\n",
       "    </tr>\n",
       "    <tr>\n",
       "      <th>1</th>\n",
       "      <td>1149</td>\n",
       "      <td>355996</td>\n",
       "    </tr>\n",
       "    <tr>\n",
       "      <th>2</th>\n",
       "      <td>2223</td>\n",
       "      <td>335521</td>\n",
       "    </tr>\n",
       "    <tr>\n",
       "      <th>3</th>\n",
       "      <td>323</td>\n",
       "      <td>269065</td>\n",
       "    </tr>\n",
       "    <tr>\n",
       "      <th>4</th>\n",
       "      <td>2956</td>\n",
       "      <td>267649</td>\n",
       "    </tr>\n",
       "    <tr>\n",
       "      <th>...</th>\n",
       "      <td>...</td>\n",
       "      <td>...</td>\n",
       "    </tr>\n",
       "    <tr>\n",
       "      <th>4605</th>\n",
       "      <td>4100</td>\n",
       "      <td>1</td>\n",
       "    </tr>\n",
       "    <tr>\n",
       "      <th>4606</th>\n",
       "      <td>2404</td>\n",
       "      <td>1</td>\n",
       "    </tr>\n",
       "    <tr>\n",
       "      <th>4607</th>\n",
       "      <td>4474</td>\n",
       "      <td>1</td>\n",
       "    </tr>\n",
       "    <tr>\n",
       "      <th>4608</th>\n",
       "      <td>628</td>\n",
       "      <td>1</td>\n",
       "    </tr>\n",
       "    <tr>\n",
       "      <th>4609</th>\n",
       "      <td>4975</td>\n",
       "      <td>1</td>\n",
       "    </tr>\n",
       "  </tbody>\n",
       "</table>\n",
       "<p>4610 rows × 2 columns</p>\n",
       "</div>"
      ],
      "text/plain": [
       "      index  Video Uploads\n",
       "0      3453         422326\n",
       "1      1149         355996\n",
       "2      2223         335521\n",
       "3       323         269065\n",
       "4      2956         267649\n",
       "...     ...            ...\n",
       "4605   4100              1\n",
       "4606   2404              1\n",
       "4607   4474              1\n",
       "4608    628              1\n",
       "4609   4975              1\n",
       "\n",
       "[4610 rows x 2 columns]"
      ]
     },
     "execution_count": 60,
     "metadata": {},
     "output_type": "execute_result"
    }
   ],
   "source": [
    "data[\"Video Uploads\"].sort_values(ascending=False).reset_index()"
   ]
  },
  {
   "cell_type": "code",
   "execution_count": 61,
   "id": "30de3b27-b9a3-4e52-830a-bc850ad43df9",
   "metadata": {},
   "outputs": [
    {
     "data": {
      "text/html": [
       "<div>\n",
       "<style scoped>\n",
       "    .dataframe tbody tr th:only-of-type {\n",
       "        vertical-align: middle;\n",
       "    }\n",
       "\n",
       "    .dataframe tbody tr th {\n",
       "        vertical-align: top;\n",
       "    }\n",
       "\n",
       "    .dataframe thead th {\n",
       "        text-align: right;\n",
       "    }\n",
       "</style>\n",
       "<table border=\"1\" class=\"dataframe\">\n",
       "  <thead>\n",
       "    <tr style=\"text-align: right;\">\n",
       "      <th></th>\n",
       "      <th>Rank</th>\n",
       "      <th>Grade</th>\n",
       "      <th>Channel name</th>\n",
       "      <th>Video Uploads</th>\n",
       "      <th>Subscribers</th>\n",
       "      <th>Video views</th>\n",
       "      <th>Avg_views</th>\n",
       "    </tr>\n",
       "  </thead>\n",
       "  <tbody>\n",
       "    <tr>\n",
       "      <th>3453</th>\n",
       "      <td>3454</td>\n",
       "      <td>1</td>\n",
       "      <td>AP Archive</td>\n",
       "      <td>422326</td>\n",
       "      <td>746325</td>\n",
       "      <td>548619569</td>\n",
       "      <td>1299.042846</td>\n",
       "    </tr>\n",
       "    <tr>\n",
       "      <th>1149</th>\n",
       "      <td>1150</td>\n",
       "      <td>2</td>\n",
       "      <td>YTN NEWS</td>\n",
       "      <td>355996</td>\n",
       "      <td>820108</td>\n",
       "      <td>1640347646</td>\n",
       "      <td>4607.769879</td>\n",
       "    </tr>\n",
       "    <tr>\n",
       "      <th>2223</th>\n",
       "      <td>2224</td>\n",
       "      <td>1</td>\n",
       "      <td>SBS Drama</td>\n",
       "      <td>335521</td>\n",
       "      <td>1418619</td>\n",
       "      <td>1565758044</td>\n",
       "      <td>4666.646928</td>\n",
       "    </tr>\n",
       "    <tr>\n",
       "      <th>323</th>\n",
       "      <td>324</td>\n",
       "      <td>3</td>\n",
       "      <td>GMA News</td>\n",
       "      <td>269065</td>\n",
       "      <td>2599175</td>\n",
       "      <td>2786949164</td>\n",
       "      <td>10357.902975</td>\n",
       "    </tr>\n",
       "    <tr>\n",
       "      <th>2956</th>\n",
       "      <td>2957</td>\n",
       "      <td>1</td>\n",
       "      <td>MLB</td>\n",
       "      <td>267649</td>\n",
       "      <td>1434206</td>\n",
       "      <td>1329206392</td>\n",
       "      <td>4966.229622</td>\n",
       "    </tr>\n",
       "  </tbody>\n",
       "</table>\n",
       "</div>"
      ],
      "text/plain": [
       "      Rank  Grade Channel name  Video Uploads  Subscribers  Video views  \\\n",
       "3453  3454      1   AP Archive         422326       746325    548619569   \n",
       "1149  1150      2     YTN NEWS         355996       820108   1640347646   \n",
       "2223  2224      1    SBS Drama         335521      1418619   1565758044   \n",
       "323    324      3     GMA News         269065      2599175   2786949164   \n",
       "2956  2957      1          MLB         267649      1434206   1329206392   \n",
       "\n",
       "         Avg_views  \n",
       "3453   1299.042846  \n",
       "1149   4607.769879  \n",
       "2223   4666.646928  \n",
       "323   10357.902975  \n",
       "2956   4966.229622  "
      ]
     },
     "execution_count": 61,
     "metadata": {},
     "output_type": "execute_result"
    }
   ],
   "source": [
    "data.sort_values(by=\"Video Uploads\",ascending=False).head(5) # İkinci bir yol olarak yapılabilir."
   ]
  },
  {
   "cell_type": "markdown",
   "id": "5cafbcef-5b4d-4142-ad96-fe6938892c6c",
   "metadata": {},
   "source": [
    "# 13) Find Correlation Matrix #"
   ]
  },
  {
   "cell_type": "code",
   "execution_count": 62,
   "id": "10149bde-0e8c-4e86-a64b-0db8ed8bcf0a",
   "metadata": {},
   "outputs": [
    {
     "data": {
      "text/html": [
       "<div>\n",
       "<style scoped>\n",
       "    .dataframe tbody tr th:only-of-type {\n",
       "        vertical-align: middle;\n",
       "    }\n",
       "\n",
       "    .dataframe tbody tr th {\n",
       "        vertical-align: top;\n",
       "    }\n",
       "\n",
       "    .dataframe thead th {\n",
       "        text-align: right;\n",
       "    }\n",
       "</style>\n",
       "<table border=\"1\" class=\"dataframe\">\n",
       "  <thead>\n",
       "    <tr style=\"text-align: right;\">\n",
       "      <th></th>\n",
       "      <th>Rank</th>\n",
       "      <th>Grade</th>\n",
       "      <th>Video Uploads</th>\n",
       "      <th>Subscribers</th>\n",
       "      <th>Video views</th>\n",
       "      <th>Avg_views</th>\n",
       "    </tr>\n",
       "  </thead>\n",
       "  <tbody>\n",
       "    <tr>\n",
       "      <th>Rank</th>\n",
       "      <td>1.000000</td>\n",
       "      <td>-0.865083</td>\n",
       "      <td>-0.073180</td>\n",
       "      <td>-0.383329</td>\n",
       "      <td>-0.402873</td>\n",
       "      <td>-0.153670</td>\n",
       "    </tr>\n",
       "    <tr>\n",
       "      <th>Grade</th>\n",
       "      <td>-0.865083</td>\n",
       "      <td>1.000000</td>\n",
       "      <td>0.088773</td>\n",
       "      <td>0.429213</td>\n",
       "      <td>0.477423</td>\n",
       "      <td>0.155231</td>\n",
       "    </tr>\n",
       "    <tr>\n",
       "      <th>Video Uploads</th>\n",
       "      <td>-0.073180</td>\n",
       "      <td>0.088773</td>\n",
       "      <td>1.000000</td>\n",
       "      <td>0.011362</td>\n",
       "      <td>0.087830</td>\n",
       "      <td>-0.064408</td>\n",
       "    </tr>\n",
       "    <tr>\n",
       "      <th>Subscribers</th>\n",
       "      <td>-0.383329</td>\n",
       "      <td>0.429213</td>\n",
       "      <td>0.011362</td>\n",
       "      <td>1.000000</td>\n",
       "      <td>0.791241</td>\n",
       "      <td>0.289386</td>\n",
       "    </tr>\n",
       "    <tr>\n",
       "      <th>Video views</th>\n",
       "      <td>-0.402873</td>\n",
       "      <td>0.477423</td>\n",
       "      <td>0.087830</td>\n",
       "      <td>0.791241</td>\n",
       "      <td>1.000000</td>\n",
       "      <td>0.294422</td>\n",
       "    </tr>\n",
       "    <tr>\n",
       "      <th>Avg_views</th>\n",
       "      <td>-0.153670</td>\n",
       "      <td>0.155231</td>\n",
       "      <td>-0.064408</td>\n",
       "      <td>0.289386</td>\n",
       "      <td>0.294422</td>\n",
       "      <td>1.000000</td>\n",
       "    </tr>\n",
       "  </tbody>\n",
       "</table>\n",
       "</div>"
      ],
      "text/plain": [
       "                   Rank     Grade  Video Uploads  Subscribers  Video views  \\\n",
       "Rank           1.000000 -0.865083      -0.073180    -0.383329    -0.402873   \n",
       "Grade         -0.865083  1.000000       0.088773     0.429213     0.477423   \n",
       "Video Uploads -0.073180  0.088773       1.000000     0.011362     0.087830   \n",
       "Subscribers   -0.383329  0.429213       0.011362     1.000000     0.791241   \n",
       "Video views   -0.402873  0.477423       0.087830     0.791241     1.000000   \n",
       "Avg_views     -0.153670  0.155231      -0.064408     0.289386     0.294422   \n",
       "\n",
       "               Avg_views  \n",
       "Rank           -0.153670  \n",
       "Grade           0.155231  \n",
       "Video Uploads  -0.064408  \n",
       "Subscribers     0.289386  \n",
       "Video views     0.294422  \n",
       "Avg_views       1.000000  "
      ]
     },
     "execution_count": 62,
     "metadata": {},
     "output_type": "execute_result"
    }
   ],
   "source": [
    "data.corr()"
   ]
  },
  {
   "cell_type": "markdown",
   "id": "9f494d4d-00c3-4454-a925-993f99c9acb9",
   "metadata": {},
   "source": [
    "# 14) Which Grade Has A Maximum Number of Video Uploads? #"
   ]
  },
  {
   "cell_type": "code",
   "execution_count": 99,
   "id": "4cad6e70-0021-4b7e-a64d-36ffbdb8439e",
   "metadata": {},
   "outputs": [
    {
     "data": {
      "text/plain": [
       "<AxesSubplot:xlabel='Grade', ylabel='Video Uploads'>"
      ]
     },
     "execution_count": 99,
     "metadata": {},
     "output_type": "execute_result"
    },
    {
     "data": {
      "image/png": "[encoded data removed]",
      "text/plain": [
       "<Figure size 432x288 with 1 Axes>"
      ]
     },
     "metadata": {
      "needs_background": "light"
     },
     "output_type": "display_data"
    }
   ],
   "source": [
    "sns.barplot(x=\"Grade\",y=\"Video Uploads\",data=data)"
   ]
  },
  {
   "cell_type": "markdown",
   "id": "b22e84fb-ec6b-4513-96de-23343551c920",
   "metadata": {},
   "source": [
    "Numerik ifadeleri ve sütunları karşılaştırmak istediğimizde barplot kullabiliriz."
   ]
  },
  {
   "cell_type": "code",
   "execution_count": 64,
   "id": "3c9225f3-b92f-48b5-9287-d357e748229d",
   "metadata": {},
   "outputs": [
    {
     "data": {
      "text/plain": [
       "<AxesSubplot:xlabel='Grade', ylabel='Avg_views'>"
      ]
     },
     "execution_count": 64,
     "metadata": {},
     "output_type": "execute_result"
    },
    {
     "data": {
      "image/png": "[encoded data removed]",
      "text/plain": [
       "<Figure size 432x288 with 1 Axes>"
      ]
     },
     "metadata": {
      "needs_background": "light"
     },
     "output_type": "display_data"
    }
   ],
   "source": [
    "sns.barplot(x=\"Grade\",y=\"Avg_views\",data=data) #--> Ortalama izlenmelere baktığımızda bu ifadeyi görebiliriz."
   ]
  },
  {
   "cell_type": "markdown",
   "id": "8c3134e9-a895-47bd-8359-5000f4abdfa7",
   "metadata": {},
   "source": [
    "# 15) Which Grade Has The Highest Average Views? #"
   ]
  },
  {
   "cell_type": "code",
   "execution_count": 65,
   "id": "8f4c240e-6185-4c98-b66e-33aaf60cfa82",
   "metadata": {},
   "outputs": [
    {
     "data": {
      "text/plain": [
       "<AxesSubplot:xlabel='Grade', ylabel='Avg_views'>"
      ]
     },
     "execution_count": 65,
     "metadata": {},
     "output_type": "execute_result"
    },
    {
     "data": {
      "image/png": "[encoded data removed]",
      "text/plain": [
       "<Figure size 432x288 with 1 Axes>"
      ]
     },
     "metadata": {
      "needs_background": "light"
     },
     "output_type": "display_data"
    }
   ],
   "source": [
    "sns.barplot(x=\"Grade\",y=\"Avg_views\",data=data)"
   ]
  },
  {
   "cell_type": "markdown",
   "id": "599074f2-3452-439d-b83f-0f589f2a030f",
   "metadata": {},
   "source": [
    "# 16) Which Grade Has The Highest Number of Subscribers? #"
   ]
  },
  {
   "cell_type": "code",
   "execution_count": 66,
   "id": "45e32c95-763e-4ee3-8eca-b2a41522f627",
   "metadata": {},
   "outputs": [
    {
     "data": {
      "text/plain": [
       "<AxesSubplot:xlabel='Grade', ylabel='Subscribers'>"
      ]
     },
     "execution_count": 66,
     "metadata": {},
     "output_type": "execute_result"
    },
    {
     "data": {
      "image/png": "[encoded data removed]",
      "text/plain": [
       "<Figure size 432x288 with 1 Axes>"
      ]
     },
     "metadata": {
      "needs_background": "light"
     },
     "output_type": "display_data"
    }
   ],
   "source": [
    "sns.barplot(x=\"Grade\",y=\"Subscribers\",data=data)"
   ]
  },
  {
   "cell_type": "markdown",
   "id": "db3ae6d2-27da-4635-96f2-b6c1baa224b2",
   "metadata": {},
   "source": [
    "Grade string ifade olarak karşımıza çıkmıştı.Bunları nümerik ifadeye dökerek grafiklerini oluşturabiliyoruz."
   ]
  },
  {
   "cell_type": "markdown",
   "id": "64dd377d-446a-499b-aab8-1758339bd881",
   "metadata": {},
   "source": [
    "# 17) Which Grade Has The Highest Video Views? #"
   ]
  },
  {
   "cell_type": "code",
   "execution_count": 98,
   "id": "1f0fe9c5-17d0-4657-abeb-0667ce503f0e",
   "metadata": {},
   "outputs": [
    {
     "data": {
      "text/html": [
       "<div>\n",
       "<style scoped>\n",
       "    .dataframe tbody tr th:only-of-type {\n",
       "        vertical-align: middle;\n",
       "    }\n",
       "\n",
       "    .dataframe tbody tr th {\n",
       "        vertical-align: top;\n",
       "    }\n",
       "\n",
       "    .dataframe thead th {\n",
       "        text-align: right;\n",
       "    }\n",
       "</style>\n",
       "<table border=\"1\" class=\"dataframe\">\n",
       "  <thead>\n",
       "    <tr style=\"text-align: right;\">\n",
       "      <th></th>\n",
       "      <th>Rank</th>\n",
       "      <th>Video Uploads</th>\n",
       "      <th>Subscribers</th>\n",
       "      <th>Video views</th>\n",
       "      <th>Avg_views</th>\n",
       "    </tr>\n",
       "    <tr>\n",
       "      <th>Grade</th>\n",
       "      <th></th>\n",
       "      <th></th>\n",
       "      <th></th>\n",
       "      <th></th>\n",
       "      <th></th>\n",
       "    </tr>\n",
       "  </thead>\n",
       "  <tbody>\n",
       "    <tr>\n",
       "      <th>1</th>\n",
       "      <td>3520.54</td>\n",
       "      <td>3136.16</td>\n",
       "      <td>1535207.95</td>\n",
       "      <td>555183839.09</td>\n",
       "      <td>3280380.88</td>\n",
       "    </tr>\n",
       "    <tr>\n",
       "      <th>2</th>\n",
       "      <td>1533.99</td>\n",
       "      <td>4382.58</td>\n",
       "      <td>2798520.38</td>\n",
       "      <td>1102450027.69</td>\n",
       "      <td>5254804.04</td>\n",
       "    </tr>\n",
       "    <tr>\n",
       "      <th>3</th>\n",
       "      <td>534.29</td>\n",
       "      <td>5709.86</td>\n",
       "      <td>5107136.29</td>\n",
       "      <td>2497972949.11</td>\n",
       "      <td>10540908.45</td>\n",
       "    </tr>\n",
       "    <tr>\n",
       "      <th>4</th>\n",
       "      <td>31.32</td>\n",
       "      <td>16960.30</td>\n",
       "      <td>11726947.47</td>\n",
       "      <td>6168741772.73</td>\n",
       "      <td>11577080.32</td>\n",
       "    </tr>\n",
       "    <tr>\n",
       "      <th>5</th>\n",
       "      <td>5.50</td>\n",
       "      <td>37450.70</td>\n",
       "      <td>22281762.50</td>\n",
       "      <td>21199091192.80</td>\n",
       "      <td>5688267.96</td>\n",
       "    </tr>\n",
       "  </tbody>\n",
       "</table>\n",
       "</div>"
      ],
      "text/plain": [
       "         Rank  Video Uploads  Subscribers    Video views   Avg_views\n",
       "Grade                                                               \n",
       "1     3520.54        3136.16   1535207.95   555183839.09  3280380.88\n",
       "2     1533.99        4382.58   2798520.38  1102450027.69  5254804.04\n",
       "3      534.29        5709.86   5107136.29  2497972949.11 10540908.45\n",
       "4       31.32       16960.30  11726947.47  6168741772.73 11577080.32\n",
       "5        5.50       37450.70  22281762.50 21199091192.80  5688267.96"
      ]
     },
     "execution_count": 98,
     "metadata": {},
     "output_type": "execute_result"
    }
   ],
   "source": [
    "data.groupby(\"Grade\").mean().head()"
   ]
  },
  {
   "cell_type": "code",
   "execution_count": null,
   "id": "5ddc44c9-5faf-46db-97ad-6fc32ac18c92",
   "metadata": {},
   "outputs": [],
   "source": [
    "pd.options.display.float_format=\"{:.2f}\".format #--> e leri yok etmek için yazıyoruz."
   ]
  }
 ],
 "metadata": {
  "kernelspec": {
   "display_name": "Python 3 (ipykernel)",
   "language": "python",
   "name": "python3"
  },
  "language_info": {
   "codemirror_mode": {
    "name": "ipython",
    "version": 3
   },
   "file_extension": ".py",
   "mimetype": "text/x-python",
   "name": "python",
   "nbconvert_exporter": "python",
   "pygments_lexer": "ipython3",
   "version": "3.9.12"
  }
 },
 "nbformat": 4,
 "nbformat_minor": 5
}
